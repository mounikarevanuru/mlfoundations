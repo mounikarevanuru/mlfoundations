{
  "nbformat": 4,
  "nbformat_minor": 0,
  "metadata": {
    "colab": {
      "provenance": [],
      "authorship_tag": "ABX9TyPSaBLanWl2vzcVTDtyzaYJ",
      "include_colab_link": true
    },
    "kernelspec": {
      "name": "python3",
      "display_name": "Python 3"
    },
    "language_info": {
      "name": "python"
    }
  },
  "cells": [
    {
      "cell_type": "markdown",
      "metadata": {
        "id": "view-in-github",
        "colab_type": "text"
      },
      "source": [
        "<a href=\"https://colab.research.google.com/github/mounikarevanuru/mlfoundations/blob/main/Data%20Preprocessing/EDA.ipynb\" target=\"_parent\"><img src=\"https://colab.research.google.com/assets/colab-badge.svg\" alt=\"Open In Colab\"/></a>"
      ]
    },
    {
      "cell_type": "markdown",
      "source": [
        "###**This section has code to read data from various sources**"
      ],
      "metadata": {
        "id": "qsKqbyez9i2a"
      }
    },
    {
      "cell_type": "code",
      "source": [],
      "metadata": {
        "id": "gbMJPTs89sB3"
      },
      "execution_count": null,
      "outputs": []
    }
  ]
}