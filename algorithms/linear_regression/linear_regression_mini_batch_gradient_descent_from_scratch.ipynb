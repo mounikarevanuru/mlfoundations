{
  "nbformat": 4,
  "nbformat_minor": 0,
  "metadata": {
    "colab": {
      "provenance": [],
      "authorship_tag": "ABX9TyNbbaMpkURGY0AGqzfgNced",
      "include_colab_link": true
    },
    "kernelspec": {
      "name": "python3",
      "display_name": "Python 3"
    },
    "language_info": {
      "name": "python"
    }
  },
  "cells": [
    {
      "cell_type": "markdown",
      "metadata": {
        "id": "view-in-github",
        "colab_type": "text"
      },
      "source": [
        "<a href=\"https://colab.research.google.com/github/mounikarevanuru/mlfoundations/blob/main/algorithms/linear_regression/linear_regression_mini_batch_gradient_descent_from_scratch.ipynb\" target=\"_parent\"><img src=\"https://colab.research.google.com/assets/colab-badge.svg\" alt=\"Open In Colab\"/></a>"
      ]
    },
    {
      "cell_type": "code",
      "execution_count": 27,
      "metadata": {
        "id": "FdmL5bPkiM4S"
      },
      "outputs": [],
      "source": [
        "import numpy as np\n",
        "from sklearn.datasets import load_diabetes\n",
        "from sklearn.model_selection import train_test_split\n",
        "import random"
      ]
    },
    {
      "cell_type": "code",
      "source": [
        "class LinearRegressionMiniBatchGD:\n",
        "\n",
        "  def __init__(self, lr = 0.01, epochs = 1000, batch_size = 50):\n",
        "    self.lr = lr\n",
        "    self.epochs = epochs\n",
        "    self.coef_ = None\n",
        "    self.intercept_ = None\n",
        "    self.batch_size = batch_size\n",
        "\n",
        "  def _rmse_loss(self, X, y):\n",
        "    y_pred = self.predict(X)\n",
        "    return np.sqrt(np.mean((y - y_pred) ** 2))\n",
        "\n",
        "\n",
        "  def fit(self, X, y):\n",
        "\n",
        "    self.coef_ = np.ones(X.shape[1])\n",
        "    self.intercept_ = 0\n",
        "\n",
        "    total_batches = int(X.shape[0]/self.batch_size)\n",
        "\n",
        "    for i in range(self.epochs):\n",
        "      for j in range(total_batches):\n",
        "\n",
        "        idx = random.sample(range(X.shape[0]), self.batch_size)\n",
        "\n",
        "        y_pred = X[idx].dot(self.coef_) + self.intercept_\n",
        "        intercept_der = -2 * np.mean(y[idx] - y_pred)\n",
        "        coef_der = -2/X[idx].shape[0] * X[idx].T.dot((y[idx] - y_pred))\n",
        "\n",
        "        self.intercept_ = self.intercept_ - (self.lr * intercept_der)\n",
        "        self.coef_ = self.coef_ - (self.lr *  coef_der)\n",
        "\n",
        "    self.loss_ = self._rmse_loss(X, y)\n",
        "\n",
        "  def predict(self, X):\n",
        "\n",
        "    return X.dot(self.coef_) + self.intercept_\n",
        "\n",
        "  def r2_score(self, X, y):\n",
        "\n",
        "    y_pred = self.predict(X)\n",
        "    ss_res = np.sum((y - y_pred) ** 2)\n",
        "    ss_total = np.sum((y - np.mean(y)) ** 2)\n",
        "\n",
        "    return 1 - ss_res/ss_total\n"
      ],
      "metadata": {
        "id": "npT1lBM_paZB"
      },
      "execution_count": 28,
      "outputs": []
    },
    {
      "cell_type": "code",
      "source": [
        "diabetes = load_diabetes()\n",
        "#diabetes"
      ],
      "metadata": {
        "id": "Nb2FzDjUwZLL"
      },
      "execution_count": 29,
      "outputs": []
    },
    {
      "cell_type": "code",
      "source": [
        "X = diabetes.data\n",
        "y = diabetes.target"
      ],
      "metadata": {
        "id": "1vHE1t5Zw0CK"
      },
      "execution_count": 30,
      "outputs": []
    },
    {
      "cell_type": "code",
      "source": [
        "X_train, X_test, y_train, y_test = train_test_split(X, y, test_size = 0.2, random_state = 42)"
      ],
      "metadata": {
        "id": "6QiToraAw4s8"
      },
      "execution_count": 31,
      "outputs": []
    },
    {
      "cell_type": "code",
      "source": [
        "model = LinearRegressionMiniBatchGD(lr = 0.6)\n",
        "model.fit(X_train, y_train)"
      ],
      "metadata": {
        "id": "6_B_5TAkxDad"
      },
      "execution_count": 32,
      "outputs": []
    },
    {
      "cell_type": "code",
      "source": [
        "print(model.predict(X_test))"
      ],
      "metadata": {
        "colab": {
          "base_uri": "https://localhost:8080/"
        },
        "id": "rTLCW6650Sbp",
        "outputId": "e1fda63c-cc58-43ec-cbe5-6ecb2a2e5ad0"
      },
      "execution_count": 33,
      "outputs": [
        {
          "output_type": "stream",
          "name": "stdout",
          "text": [
            "[135.45117107 176.97408786 134.61058656 289.95050197 117.10745196\n",
            "  88.76255781 252.34202651 182.25131996  80.59197922 106.64206239\n",
            "  90.80761497 159.35405865  60.25868214 201.37874043  95.10712156\n",
            " 128.80044168 217.08473954 242.53856965 193.14162114 210.4619271\n",
            " 203.4299797   84.24560036  68.44340183 183.90310812 152.35084019\n",
            " 158.11845129 185.63079426 173.56344877  46.18510101 106.10960209\n",
            " 175.8558012   87.84343412 127.05991362 176.91139695 168.32870714\n",
            " 186.54251419 118.44690372 113.6631078  141.20624686  56.82064586\n",
            "  70.81568363 103.62808399 158.38639044 145.30491041 170.91864281\n",
            "  61.23355421  74.94086882 103.54109519  54.81621534 157.6751501\n",
            " 153.06050316  61.89711349 109.56175995 104.17030122 166.00121333\n",
            " 155.969329    90.40418052 203.82630208 114.07450706  65.32436822\n",
            " 180.43963212 198.97441869 137.83731199 101.16050444 122.55583492\n",
            " 198.94844584 163.12726242 157.75169054 115.5700226  137.03179514\n",
            " 176.82138421 190.85823881 231.4608544  139.39064614  78.49606985\n",
            " 147.05670601 188.55946855 202.09118304 153.294298   195.70811967\n",
            " 110.32139786 134.00556491  49.9411451   51.83921101 107.71732659\n",
            "  80.90433654  77.51414676  58.14738973 160.44071132]\n"
          ]
        }
      ]
    },
    {
      "cell_type": "code",
      "source": [
        "print(model.coef_)\n",
        "print(model.intercept_)"
      ],
      "metadata": {
        "colab": {
          "base_uri": "https://localhost:8080/"
        },
        "id": "iN8CqDdV3eUd",
        "outputId": "464086f1-e799-4a0d-8495-ed352d37d9a0"
      },
      "execution_count": 34,
      "outputs": [
        {
          "output_type": "stream",
          "name": "stdout",
          "text": [
            "[  38.46560444 -240.4109665   550.38866418  344.51605844 -205.60657047\n",
            "  -54.69945417 -166.63267676  174.73513394  453.080792     56.78564519]\n",
            "147.25945351258164\n"
          ]
        }
      ]
    },
    {
      "cell_type": "code",
      "source": [
        "model.r2_score(X_test, y_test)"
      ],
      "metadata": {
        "colab": {
          "base_uri": "https://localhost:8080/"
        },
        "id": "2j-7t_WA3OQb",
        "outputId": "6ed0ae7f-e8dd-48ae-f066-db937f4d9caf"
      },
      "execution_count": 35,
      "outputs": [
        {
          "output_type": "execute_result",
          "data": {
            "text/plain": [
              "np.float64(0.4457006210229085)"
            ]
          },
          "metadata": {},
          "execution_count": 35
        }
      ]
    },
    {
      "cell_type": "code",
      "source": [
        "print(\"RMSE loss:\", model.loss_)"
      ],
      "metadata": {
        "colab": {
          "base_uri": "https://localhost:8080/"
        },
        "id": "rUFXH7Rh5VzO",
        "outputId": "d40c587f-5b50-44cb-8fb2-68aa33282cde"
      },
      "execution_count": 36,
      "outputs": [
        {
          "output_type": "stream",
          "name": "stdout",
          "text": [
            "RMSE loss: 53.919309756940585\n"
          ]
        }
      ]
    }
  ]
}